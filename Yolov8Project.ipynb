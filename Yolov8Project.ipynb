{
  "nbformat": 4,
  "nbformat_minor": 0,
  "metadata": {
    "colab": {
      "private_outputs": true,
      "provenance": [],
      "gpuType": "T4"
    },
    "kernelspec": {
      "name": "python3",
      "display_name": "Python 3"
    },
    "language_info": {
      "name": "python"
    },
    "gpuClass": "standard",
    "accelerator": "GPU"
  },
  "cells": [
    {
      "cell_type": "code",
      "execution_count": null,
      "metadata": {
        "id": "Dvg4Ro3LlPxe"
      },
      "outputs": [],
      "source": [
        "!nvidia-smi"
      ]
    },
    {
      "cell_type": "code",
      "source": [
        "import os \n",
        "HOME=os.getcwd()\n",
        "print(HOME)"
      ],
      "metadata": {
        "id": "z6ZOapSKmF_0"
      },
      "execution_count": null,
      "outputs": []
    },
    {
      "cell_type": "code",
      "source": [
        "!pip install ultralytics\n",
        "from IPython import display\n",
        "display.clear_output()\n",
        "!yolo mode =checks\n"
      ],
      "metadata": {
        "id": "p0VitJtNmxDN"
      },
      "execution_count": null,
      "outputs": []
    },
    {
      "cell_type": "code",
      "source": [
        "from ultralytics import YOLO\n",
        "from IPython.display import display,Image\n",
        "\n"
      ],
      "metadata": {
        "id": "1AF-I3iBnqci"
      },
      "execution_count": null,
      "outputs": []
    },
    {
      "cell_type": "code",
      "source": [
        "!pip install roboflow"
      ],
      "metadata": {
        "id": "ZdjGgtvijiLe"
      },
      "execution_count": null,
      "outputs": []
    },
    {
      "cell_type": "code",
      "source": [
        "from roboflow import Roboflow\n",
        "rf = Roboflow(api_key=\"qL96kHUskyoy8qejLXHN\")\n",
        "project = rf.workspace(\"samrat-sahoo\").project(\"license-plates-f8vsn\")\n",
        "dataset = project.version(5).download(\"yolov8\")\n"
      ],
      "metadata": {
        "id": "zODMxiHUc08R"
      },
      "execution_count": null,
      "outputs": []
    },
    {
      "cell_type": "code",
      "source": [
        "pwd"
      ],
      "metadata": {
        "id": "-mgvKcvanKT2"
      },
      "execution_count": null,
      "outputs": []
    },
    {
      "cell_type": "code",
      "source": [
        "%cd {HOME}"
      ],
      "metadata": {
        "id": "u-by3EbanOKo"
      },
      "execution_count": null,
      "outputs": []
    },
    {
      "cell_type": "code",
      "source": [
        "!yolo task=detect mode=train model=yolov8l.pt data={dataset.location}/data.yaml epochs=25 imgsz=640 "
      ],
      "metadata": {
        "id": "n66I0h3-nOYB"
      },
      "execution_count": null,
      "outputs": []
    },
    {
      "cell_type": "code",
      "source": [
        "!yolo task=detect mode=val model=/content/runs/detect/train/weights/best.pt data={dataset.location}/data.yaml"
      ],
      "metadata": {
        "id": "n3WymmOenOkA"
      },
      "execution_count": null,
      "outputs": []
    },
    {
      "cell_type": "code",
      "source": [
        "!yolo task=detect mode=predict model=/content/runs/detect/train/weights/best.pt  conf=0.25  source={dataset.location}/test/images"
      ],
      "metadata": {
        "id": "nD1cLQrEj8Hf"
      },
      "execution_count": null,
      "outputs": []
    },
    {
      "cell_type": "code",
      "source": [
        "import glob\n",
        "from IPython.display import display,Image\n",
        "for image_path in glob.glob (f'/content/runs/detect/predict/*.jpg')[3:35]:\n",
        "  display(Image(filename=image_path,width=400))\n",
        "  print(\"\\n\")\n"
      ],
      "metadata": {
        "id": "FQIyUUJElLZB"
      },
      "execution_count": null,
      "outputs": []
    },
    {
      "cell_type": "code",
      "source": [
        "!yolo task=detect mode=predict model=/content/runs/detect/train/weights/best.pt  conf=0.25  source=/content/myvideo.mp4"
      ],
      "metadata": {
        "id": "bhFwu5ImU-ZQ"
      },
      "execution_count": null,
      "outputs": []
    },
    {
      "cell_type": "code",
      "source": [
        "!yolo task=detect mode=predict model=yolov8l conf=0.25  source=/content/myvideo.mp4"
      ],
      "metadata": {
        "id": "GN_ov_-iVC7h"
      },
      "execution_count": null,
      "outputs": []
    },
    {
      "cell_type": "code",
      "source": [
        "# Learning Curve\n",
        "%cd {HOME}\n",
        "Image(filename=f'/content/runs/detect/train/results.png',width=400)"
      ],
      "metadata": {
        "id": "3NVjKuLBnOs5"
      },
      "execution_count": null,
      "outputs": []
    },
    {
      "cell_type": "code",
      "source": [],
      "metadata": {
        "id": "b6htJEmOqsGS"
      },
      "execution_count": null,
      "outputs": []
    }
  ]
}