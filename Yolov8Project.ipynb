{
  "nbformat": 4,
  "nbformat_minor": 0,
  "metadata": {
    "colab": {
      "private_outputs": true,
      "provenance": []
    },
    "kernelspec": {
      "name": "python3",
      "display_name": "Python 3"
    },
    "language_info": {
      "name": "python"
    },
    "gpuClass": "standard",
    "accelerator": "GPU"
  },
  "cells": [
    {
      "cell_type": "code",
      "execution_count": null,
      "metadata": {
        "id": "Dvg4Ro3LlPxe"
      },
      "outputs": [],
      "source": [
        "!nvidia-smi"
      ]
    },
    {
      "cell_type": "code",
      "source": [
        "import os \n",
        "HOME=os.getcwd()\n",
        "print(HOME)"
      ],
      "metadata": {
        "id": "z6ZOapSKmF_0"
      },
      "execution_count": null,
      "outputs": []
    },
    {
      "cell_type": "code",
      "source": [
        "!pip install ultralytics\n",
        "from IPython import display\n",
        "display.clear_output()\n",
        "!yolo mode =checks\n"
      ],
      "metadata": {
        "id": "p0VitJtNmxDN"
      },
      "execution_count": null,
      "outputs": []
    },
    {
      "cell_type": "code",
      "source": [
        "from ultralytics import YOLO\n",
        "from IPython.display import display,Image\n",
        "\n"
      ],
      "metadata": {
        "id": "1AF-I3iBnqci"
      },
      "execution_count": null,
      "outputs": []
    },
    {
      "cell_type": "code",
      "source": [
        "!pip install roboflow"
      ],
      "metadata": {
        "id": "ZdjGgtvijiLe"
      },
      "execution_count": null,
      "outputs": []
    },
    {
      "cell_type": "code",
      "source": [
        "from roboflow import Roboflow\n",
        "rf = Roboflow(api_key=\"qL96kHUskyoy8qejLXHN\")\n",
        "project = rf.workspace(\"samrat-sahoo\").project(\"license-plates-f8vsn\")\n",
        "dataset = project.version(5).download(\"yolov8\")\n",
        "\n",
        "\n",
        "\n",
        "\n",
        "\n",
        "\n",
        "\n",
        "# from roboflow import Roboflow\n",
        "# import requests\n",
        "\n",
        "# api_key = \"qL96kHUskyoy8qejLXHN\"\n",
        "# api_url = \"https://api.roboflow.com\"\n",
        "\n",
        "# # Get list of projects\n",
        "# response = requests.get(f\"{api_url}/projects\", headers={\"Authorization\": f\"Bearer {api_key}\"})\n",
        "# projects = response.json()\n",
        "\n",
        "# for project in projects:\n",
        "#     print(project[id], project[name])\n",
        "\n",
        "# # Get latest version of a project\n",
        "# project_id = \"license-plates-f8vsn\"\n",
        "# response = requests.get(f\"{api_url}/project/{project_id}/latest\", headers={\"Authorization\": f\"Bearer {api_key}\"})\n",
        "# version = response.json()\n",
        "# print(version[\"id\"])\n",
        "\n"
      ],
      "metadata": {
        "id": "zODMxiHUc08R"
      },
      "execution_count": null,
      "outputs": []
    },
    {
      "cell_type": "code",
      "source": [
        "pwd"
      ],
      "metadata": {
        "id": "-mgvKcvanKT2"
      },
      "execution_count": null,
      "outputs": []
    },
    {
      "cell_type": "code",
      "source": [
        "%cd {HOME}"
      ],
      "metadata": {
        "id": "u-by3EbanOKo"
      },
      "execution_count": null,
      "outputs": []
    },
    {
      "cell_type": "code",
      "source": [
        "!yolo task=detect mode=train model=yolov8l.pt data={dataset.location}/data.yaml epochs=25 imgsz=640 "
      ],
      "metadata": {
        "id": "n66I0h3-nOYB"
      },
      "execution_count": null,
      "outputs": []
    },
    {
      "cell_type": "code",
      "source": [
        "!yolo task=detect mode=val model=/content/runs/detect/train/weights/best.pt data={dataset.location}/data.yaml"
      ],
      "metadata": {
        "id": "n3WymmOenOkA"
      },
      "execution_count": null,
      "outputs": []
    },
    {
      "cell_type": "code",
      "source": [
        "!yolo task=detect mode=predict model=/content/runs/detect/train/weights/best.pt  conf=0.25  source={dataset.location}/test/images"
      ],
      "metadata": {
        "id": "nD1cLQrEj8Hf"
      },
      "execution_count": null,
      "outputs": []
    },
    {
      "cell_type": "code",
      "source": [
        "import glob\n",
        "from IPython.display import display,Image\n",
        "for image_path in glob.glob (f'/content/runs/detect/predict/*.jpg')[:35]:\n",
        "  display(Image(filename=image_path,width=400))\n",
        "  print(\"\\n\")\n"
      ],
      "metadata": {
        "id": "FQIyUUJElLZB"
      },
      "execution_count": null,
      "outputs": []
    },
    {
      "cell_type": "code",
      "source": [
        "!yolo task=detect mode=predict model=/content/runs/detect/train/weights/best.pt  conf=0.25  source=/content/myvideo.mp4 "
      ],
      "metadata": {
        "id": "vVzxS8i8ZR2Y"
      },
      "execution_count": null,
      "outputs": []
    },
    {
      "cell_type": "code",
      "source": [
        "!yolo task=detect mode=predict model=yolov8l conf=0.25  source=/content/myvideo.mp4 "
      ],
      "metadata": {
        "id": "K95G4sjlayJH"
      },
      "execution_count": null,
      "outputs": []
    },
    {
      "cell_type": "code",
      "source": [
        "# !pip install roboflow\n",
        "\n",
        "# from roboflow import Roboflow\n",
        "# rf = Roboflow(api_key=\"qL96kHUskyoy8qejLXHN\")\n",
        "# project = rf.workspace(\"samrat-sahoo\").project(\"license-plates-us-eu\")\n",
        "# dataset = project.version(3).download(\"yolov8\")"
      ],
      "metadata": {
        "id": "r6KK3xrsnOm8"
      },
      "execution_count": null,
      "outputs": []
    },
    {
      "cell_type": "code",
      "source": [
        "%cd {HOME}\n",
        "Image(filename=f'/content/runs/detect/train/confusion_matrix.png',width=400)"
      ],
      "metadata": {
        "id": "T3Wmiqh5nOpr"
      },
      "execution_count": null,
      "outputs": []
    },
    {
      "cell_type": "code",
      "source": [
        "%cd {HOME}\n",
        "Image(filename=f'/content/runs/detect/train/results.png',width=400)"
      ],
      "metadata": {
        "id": "3NVjKuLBnOs5"
      },
      "execution_count": null,
      "outputs": []
    },
    {
      "cell_type": "code",
      "source": [
        "# !pip install roboflow\n",
        "# from roboflow import Roboflow\n",
        "# rf = Roboflow(api_key=\"qL96kHUskyoy8qejLXHN\")\n",
        "\n",
        "# projects = rf.get_projects()\n",
        "\n",
        "# for project in projects:\n",
        "#     print(project.id, project.name)\n",
        "\n",
        "# project = rf.workspace().project(\"license-plates-f8vsn\")\n",
        "# project_version = project.version(5)\n",
        "# dataset_path = project.download_dataset(5, download_dir=\"/samrat-sahoo/license-plates-f8vsn/dataset/5\")\n"
      ],
      "metadata": {
        "id": "Md_o91CxSs3Q"
      },
      "execution_count": null,
      "outputs": []
    },
    {
      "cell_type": "code",
      "source": [
        "\n",
        "# infer on a local image\n",
        "# print(model.predict(\"your_image.jpg\", confidence=40, overlap=30).json())\n",
        "\n",
        "# visualize your prediction\n",
        "# model.predict(\"your_image.jpg\", confidence=40, overlap=30).save(\"prediction.jpg\")\n",
        "\n",
        "# infer on an image hosted elsewhere\n",
        "# print(model.predict(\"URL_OF_YOUR_IMAGE\", hosted=True, confidence=40, overlap=30).json())"
      ],
      "metadata": {
        "id": "0aFqizNIR7nc"
      },
      "execution_count": null,
      "outputs": []
    },
    {
      "cell_type": "code",
      "source": [
        "# from google.colab import drive\n",
        "# drive.mount('/content/drive')"
      ],
      "metadata": {
        "id": "p_vTO_lkWjYk"
      },
      "execution_count": null,
      "outputs": []
    },
    {
      "cell_type": "code",
      "source": [
        "# %cd {HOME}\n",
        "# !yolo task=detect mode=predict model=yolov8n.pt conf=0.25 source='da1352ab6054a2e4_jpg.rf.1cc96761ed6a1cafa604c877cdcfa249.jpg'\n"
      ],
      "metadata": {
        "id": "SVlVTOQFqj6u"
      },
      "execution_count": null,
      "outputs": []
    },
    {
      "cell_type": "code",
      "source": [],
      "metadata": {
        "id": "b6htJEmOqsGS"
      },
      "execution_count": null,
      "outputs": []
    }
  ]
}